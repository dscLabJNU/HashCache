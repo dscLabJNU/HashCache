{
 "cells": [
  {
   "cell_type": "code",
   "execution_count": 6,
   "metadata": {},
   "outputs": [
    {
     "name": "stdout",
     "output_type": "stream",
     "text": [
      "总共有278665条记录\n",
      "{'P_num_comp': 100.0, 'P_invo_comp': 87.09023379326432, 'P_invo_dup': 83.93094070625077, 'P_time_dup': 70.88258967391627}\n"
     ]
    }
   ],
   "source": [
    "import pandas as pd\n",
    "\n",
    "\n",
    "def analyze_function_log(LOG_FILE):\n",
    "    data = pd.read_csv(LOG_FILE)\n",
    "    print(f\"总共有{len(data)}条记录\")\n",
    "    num_total_func = data['func_name'].nunique()\n",
    "    num_all_invokes = data['func_name'].count()\n",
    "    duration_all_func = data['duration'].sum()\n",
    "\n",
    "    # Distinguishes computational functions from others\n",
    "    comp_func = data.groupby(\n",
    "        [\"func_name\",\n",
    "         'hash_input']).filter(lambda x: x['hash_output'].nunique() == 1)\n",
    "    num_comp_invokes = comp_func['func_name'].count()\n",
    "    num_comp_func = comp_func['func_name'].nunique()\n",
    "\n",
    "    # Duplicated(keep=False) counts all same values.\n",
    "    duplicated_func_of_computational = comp_func[comp_func.duplicated(\n",
    "        ['func_name', 'hash_input'], keep=False)]\n",
    "\n",
    "    num_duplicated_invokes = duplicated_func_of_computational[\n",
    "        'func_name'].count()\n",
    "    duration_duplicated_invokes = duplicated_func_of_computational[\n",
    "        'duration'].sum()\n",
    "\n",
    "    result = {\n",
    "        \"P_num_comp\": 100 * num_comp_func / num_total_func,\n",
    "        \"P_invo_comp\": 100 * num_comp_invokes / num_all_invokes,\n",
    "        \"P_invo_dup\": 100 * num_duplicated_invokes / num_comp_invokes,\n",
    "        \"P_time_dup\": 100 * duration_duplicated_invokes / duration_all_func,\n",
    "    }\n",
    "    print(result)\n",
    "\n",
    "\n",
    "LOG_FILE=\"log.csv\"\n",
    "analyze_function_log(LOG_FILE)"
   ]
  }
 ],
 "metadata": {
  "kernelspec": {
   "display_name": "load-gen",
   "language": "python",
   "name": "python3"
  },
  "language_info": {
   "codemirror_mode": {
    "name": "ipython",
    "version": 3
   },
   "file_extension": ".py",
   "mimetype": "text/x-python",
   "name": "python",
   "nbconvert_exporter": "python",
   "pygments_lexer": "ipython3",
   "version": "3.8.16"
  },
  "orig_nbformat": 4
 },
 "nbformat": 4,
 "nbformat_minor": 2
}
